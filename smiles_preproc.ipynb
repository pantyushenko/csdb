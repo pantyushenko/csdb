{
 "cells": [
  {
   "cell_type": "code",
   "execution_count": 2,
   "id": "a9e75c81-bb77-49b7-9c44-d2f8dcfb59ca",
   "metadata": {},
   "outputs": [
    {
     "name": "stdout",
     "output_type": "stream",
     "text": [
      "NCCO[C@H]1O[C@H](CO[C@H]2O[C@H](CO[C@H]3O[C@H](CO)[C@@H](O)[C@@H]3O[C@@H]3O[C@H](CO)[C@@H](O)[C@@H]3O)[C@@H](O[C@H]3O[C@H](CO)[C@@H](O)[C@@H]3O[C@@H]3O[C@H](CO)[C@@H](O)[C@@H]3O)[C@@H]2O)[C@@H](O)[C@@H]1O\n"
     ]
    }
   ],
   "source": [
    "from rdkit import Chem\n",
    "\n",
    "smiles_original = \"[C@@H]1(O[C@@H]([C@H]([C@@H]1O)O)OCCN)CO[C@H]2O[C@@H]([C@H]([C@@H]2O)O[C@H]3O[C@@H]([C@H]([C@@H]3O[C@@H]4O[C@@H]([C@H]([C@@H]4O)O)CO)O)CO)CO[C@H]5O[C@@H]([C@H]([C@@H]5O[C@@H]6O[C@@H]([C@H]([C@@H]6O)O)CO)O)CO\"\n",
    "mol = Chem.MolFromSmiles(smiles_original)  \n",
    "canonical_smiles = Chem.MolToSmiles(mol, canonical=True)\n",
    "print(canonical_smiles)\n"
   ]
  },
  {
   "cell_type": "code",
   "execution_count": 5,
   "id": "c23836be-f3fe-4a99-a082-b7b8b36db817",
   "metadata": {},
   "outputs": [
    {
     "name": "stdout",
     "output_type": "stream",
     "text": [
      "SMILES #1 canonical: N[2CH2][1CH2]O[501C@H]1O[504C@H]([505CH2]O[1001C@H]2O[1004C@H]([1005CH2]O[1501C@H]3O[1504C@H]([1505CH2]O)[1503C@@H](O)[1502C@@H]3O[2001C@@H]3O[2004C@H]([2005CH2]O)[2003C@@H](O)[2002C@@H]3O)[1003C@@H](O[2501C@H]3O[2504C@H]([2505CH2]O)[2503C@@H](O)[2502C@@H]3O[3001C@@H]3O[3004C@H]([3005CH2]O)[3003C@@H](O)[3002C@@H]3O)[1002C@@H]2O)[503C@@H](O)[502C@@H]1O\n",
      "SMILES #2 canonical: NCCO[C@H]1O[C@H](CO[C@H]2O[C@H](CO[C@H]3O[C@H](CO)[C@@H](O)[C@@H]3O[C@@H]3O[C@H](CO)[C@@H](O)[C@@H]3O)[C@@H](O[C@H]3O[C@H](CO)[C@@H](O)[C@@H]3O[C@@H]3O[C@H](CO)[C@@H](O)[C@@H]3O)[C@@H]2O)[C@@H](O)[C@@H]1O\n",
      "Структуры различаются (или содержит ошибки).\n"
     ]
    }
   ],
   "source": [
    "from rdkit import Chem\n",
    "\n",
    "smiles1 = \"N[2CH2][1CH2]O[501C@H]1O[504C@H]([505CH2]O[1001C@H]2O[1004C@H]([1005CH2]O[1501C@H]3O[1504C@H]([1505CH2]O)[1503C@@H](O)[1502C@@H]3O[2001C@@H]3O[2004C@H]([2005CH2]O)[2003C@@H](O)[2002C@@H]3O)[1003C@@H](O[2501C@H]3O[2504C@H]([2505CH2]O)[2503C@@H](O)[2502C@@H]3O[3001C@@H]3O[3004C@H]([3005CH2]O)[3003C@@H](O)[3002C@@H]3O)[1002C@@H]2O)[503C@@H](O)[502C@@H]1O\"  # и т.д.\n",
    "smiles2 = \"NCCO[C@H]1O[C@H](CO[C@H]2O[C@H](CO[C@H]3O[C@H](CO)[C@@H](O)[C@@H]3O[C@@H]3O[C@H](CO)[C@@H](O)[C@@H]3O)[C@@H](O[C@H]3O[C@H](CO)[C@@H](O)[C@@H]3O[C@@H]3O[C@H](CO)[C@@H](O)[C@@H]3O)[C@@H]2O)[C@@H](O)[C@@H]1O\"  # и т.д.\n",
    "\n",
    "def canonical_no_map(smiles):\n",
    "    mol = Chem.MolFromSmiles(smiles)\n",
    "    if mol is None:\n",
    "        return None\n",
    "    # Сбросить номера atom mapping\n",
    "    for atom in mol.GetAtoms():\n",
    "        atom.SetAtomMapNum(0)\n",
    "    # Выдать канонический SMILES (с сохранением стереохимии)\n",
    "    return Chem.MolToSmiles(mol, canonical=True, isomericSmiles=True)\n",
    "\n",
    "can1 = canonical_no_map(smiles1)\n",
    "can2 = canonical_no_map(smiles2)\n",
    "\n",
    "print(\"SMILES #1 canonical:\", can1)\n",
    "print(\"SMILES #2 canonical:\", can2)\n",
    "\n",
    "if can1 == can2:\n",
    "    print(\"Обе записи описывают одну и ту же структуру!\")\n",
    "else:\n",
    "    print(\"Структуры различаются (или содержит ошибки).\")\n"
   ]
  },
  {
   "cell_type": "code",
   "execution_count": 6,
   "id": "e53f5005-7f49-4399-8814-1cb2eb55126d",
   "metadata": {},
   "outputs": [],
   "source": [
    "import re\n",
    "\n",
    "def strip_and_replace_ch2(smiles: str) -> str:\n",
    "    \"\"\"\n",
    "    Убирает числовые префиксы из SMILES и заменяет только '[CH2]' на 'C',\n",
    "    оставляя другие группы, такие как '[C@H]', без изменений.\n",
    "    \"\"\"\n",
    "    # Шаг 1: Удаляем числовые префиксы\n",
    "    pattern_remove_numbers = re.compile(r'\\[([0-9]+)([A-Za-z@0-9]+)\\]')\n",
    "    smiles = pattern_remove_numbers.sub(r'[\\2]', smiles)\n",
    "    \n",
    "    # Шаг 2: Заменяем только '[CH2]' на 'C'\n",
    "    pattern_replace_ch2 = re.compile(r'\\[CH2\\]')\n",
    "    smiles = pattern_replace_ch2.sub('C', smiles)\n",
    "    \n",
    "    return smiles\n"
   ]
  },
  {
   "cell_type": "code",
   "execution_count": 14,
   "id": "42d70eaf-4f30-4958-b53c-9d21a3a9e92a",
   "metadata": {},
   "outputs": [],
   "source": [
    "ideal_smiles = \"NCCO[C@H]1O[C@H](CO[C@H]2O[C@H](CO[C@H]3O[C@H](CO)[C@@H](O)[C@@H]3O[C@@H]3O[C@H](CO)[C@@H](O)[C@@H]3O)[C@@H](O[C@H]3O[C@H](CO)[C@@H](O)[C@@H]3O[C@@H]3O[C@H](CO)[C@@H](O)[C@@H]3O)[C@@H]2O)[C@@H](O)[C@@H]1O\""
   ]
  },
  {
   "cell_type": "code",
   "execution_count": 15,
   "id": "207efe6e-7b3d-442b-8bf0-fe1f35d4ea02",
   "metadata": {},
   "outputs": [],
   "source": [
    "smiles_input = \"N[2CH2][1CH2]O[501C@H]1O[504C@H]([505CH2]O[1001C@H]2O[1004C@H]([1005CH2]O[1501C@H]3O[1504C@H]([1505CH2]O)[1503C@@H](O)[1502C@@H]3O[2001C@@H]3O[2004C@H]([2005CH2]O)[2003C@@H](O)[2002C@@H]3O)[1003C@@H](O[2501C@H]3O[2504C@H]([2505CH2]O)[2503C@@H](O)[2502C@@H]3O[3001C@@H]3O[3004C@H]([3005CH2]O)[3003C@@H](O)[3002C@@H]3O)[1002C@@H]2O)[503C@@H](O)[502C@@H]1O\""
   ]
  },
  {
   "cell_type": "code",
   "execution_count": 16,
   "id": "2603a0de-049a-4161-9927-359cde182dcf",
   "metadata": {},
   "outputs": [
    {
     "name": "stdout",
     "output_type": "stream",
     "text": [
      "Исходный SMILES: N[2CH2][1CH2]O[501C@H]1O[504C@H]([505CH2]O[1001C@H]2O[1004C@H]([1005CH2]O[1501C@H]3O[1504C@H]([1505CH2]O)[1503C@@H](O)[1502C@@H]3O[2001C@@H]3O[2004C@H]([2005CH2]O)[2003C@@H](O)[2002C@@H]3O)[1003C@@H](O[2501C@H]3O[2504C@H]([2505CH2]O)[2503C@@H](O)[2502C@@H]3O[3001C@@H]3O[3004C@H]([3005CH2]O)[3003C@@H](O)[3002C@@H]3O)[1002C@@H]2O)[503C@@H](O)[502C@@H]1O\n",
      "Обработанный SMILES: NCCO[C@H]1O[C@H](CO[C@H]2O[C@H](CO[C@H]3O[C@H](CO)[C@@H](O)[C@@H]3O[C@@H]3O[C@H](CO)[C@@H](O)[C@@H]3O)[C@@H](O[C@H]3O[C@H](CO)[C@@H](O)[C@@H]3O[C@@H]3O[C@H](CO)[C@@H](O)[C@@H]3O)[C@@H]2O)[C@@H](O)[C@@H]1O\n",
      "Для сравнения SMILES: NCCO[C@H]1O[C@H](CO[C@H]2O[C@H](CO[C@H]3O[C@H](CO)[C@@H](O)[C@@H]3O[C@@H]3O[C@H](CO)[C@@H](O)[C@@H]3O)[C@@H](O[C@H]3O[C@H](CO)[C@@H](O)[C@@H]3O[C@@H]3O[C@H](CO)[C@@H](O)[C@@H]3O)[C@@H]2O)[C@@H](O)[C@@H]1O\n"
     ]
    }
   ],
   "source": [
    "\n",
    "cleaned_smiles = strip_and_replace_ch2(smiles_input)\n",
    "\n",
    "\n",
    "print(\"Исходный SMILES:\", smiles_input)\n",
    "print(\"Обработанный SMILES:\", cleaned_smiles)\n",
    "print(\"Для сравнения SMILES:\", ideal_smiles)"
   ]
  },
  {
   "cell_type": "code",
   "execution_count": 17,
   "id": "93287309-ae29-4319-a8cf-c48c76a3cd2a",
   "metadata": {},
   "outputs": [
    {
     "data": {
      "text/plain": [
       "True"
      ]
     },
     "execution_count": 17,
     "metadata": {},
     "output_type": "execute_result"
    }
   ],
   "source": [
    "cleaned_smiles == ideal_smiles"
   ]
  }
 ],
 "metadata": {
  "kernelspec": {
   "display_name": "Python 3 (ipykernel)",
   "language": "python",
   "name": "python3"
  },
  "language_info": {
   "codemirror_mode": {
    "name": "ipython",
    "version": 3
   },
   "file_extension": ".py",
   "mimetype": "text/x-python",
   "name": "python",
   "nbconvert_exporter": "python",
   "pygments_lexer": "ipython3",
   "version": "3.11.7"
  }
 },
 "nbformat": 4,
 "nbformat_minor": 5
}
